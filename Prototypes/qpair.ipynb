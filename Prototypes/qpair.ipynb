{
  "nbformat": 4,
  "nbformat_minor": 0,
  "metadata": {
    "colab": {
      "provenance": []
    },
    "kernelspec": {
      "name": "python3",
      "display_name": "Python 3"
    },
    "language_info": {
      "name": "python"
    }
  },
  "cells": [
    {
      "cell_type": "code",
      "execution_count": null,
      "metadata": {
        "id": "G6nAN2H4H2Bv"
      },
      "outputs": [],
      "source": [
        "!mkdir -p ~/.kaggle\n",
        "!cp kaggle.json ~/.kaggle/"
      ]
    },
    {
      "cell_type": "code",
      "source": [
        "!chmod 600 /root/.kaggle/kaggle.json"
      ],
      "metadata": {
        "id": "ThS7MWj-IVco"
      },
      "execution_count": null,
      "outputs": []
    },
    {
      "cell_type": "code",
      "source": [
        "!kaggle datasets download -d quora/question-pairs-dataset"
      ],
      "metadata": {
        "colab": {
          "base_uri": "https://localhost:8080/"
        },
        "id": "b7CpF2vJIXr0",
        "outputId": "2183f592-9866-4cb8-8cd0-351d768f065e"
      },
      "execution_count": null,
      "outputs": [
        {
          "output_type": "stream",
          "name": "stdout",
          "text": [
            "Dataset URL: https://www.kaggle.com/datasets/quora/question-pairs-dataset\n",
            "License(s): other\n",
            "question-pairs-dataset.zip: Skipping, found more recently modified local copy (use --force to force download)\n"
          ]
        }
      ]
    },
    {
      "cell_type": "code",
      "source": [
        "import zipfile\n",
        "zip_ref = zipfile.ZipFile('question-pairs-dataset.zip', 'r')\n",
        "zip_ref.extractall('/content')\n",
        "zip_ref.close()"
      ],
      "metadata": {
        "id": "MPCOhQqmIZuT"
      },
      "execution_count": null,
      "outputs": []
    },
    {
      "cell_type": "code",
      "source": [
        "import numpy as np\n",
        "import pandas as pd\n",
        "import matplotlib.pyplot as plt\n",
        "import seaborn as sns"
      ],
      "metadata": {
        "id": "UYeLUgqbIcVd"
      },
      "execution_count": null,
      "outputs": []
    },
    {
      "cell_type": "code",
      "source": [
        "df = pd.read_csv('questions.csv')"
      ],
      "metadata": {
        "id": "ZiDs8mQRIh3X"
      },
      "execution_count": null,
      "outputs": []
    },
    {
      "cell_type": "code",
      "source": [
        "df.dropna(axis=0, inplace=True)"
      ],
      "metadata": {
        "id": "ajyC7AGPJlHP"
      },
      "execution_count": null,
      "outputs": []
    },
    {
      "cell_type": "code",
      "source": [
        "!pip install contractions\n",
        "!pip install nltk"
      ],
      "metadata": {
        "colab": {
          "base_uri": "https://localhost:8080/"
        },
        "id": "k1jDkK3wK6mj",
        "outputId": "b50c5d10-8e1b-4358-e8c7-61daa18719ea"
      },
      "execution_count": null,
      "outputs": [
        {
          "output_type": "stream",
          "name": "stdout",
          "text": [
            "Requirement already satisfied: contractions in /usr/local/lib/python3.11/dist-packages (0.1.73)\n",
            "Requirement already satisfied: textsearch>=0.0.21 in /usr/local/lib/python3.11/dist-packages (from contractions) (0.0.24)\n",
            "Requirement already satisfied: anyascii in /usr/local/lib/python3.11/dist-packages (from textsearch>=0.0.21->contractions) (0.3.2)\n",
            "Requirement already satisfied: pyahocorasick in /usr/local/lib/python3.11/dist-packages (from textsearch>=0.0.21->contractions) (2.1.0)\n",
            "Requirement already satisfied: nltk in /usr/local/lib/python3.11/dist-packages (3.9.1)\n",
            "Requirement already satisfied: click in /usr/local/lib/python3.11/dist-packages (from nltk) (8.1.8)\n",
            "Requirement already satisfied: joblib in /usr/local/lib/python3.11/dist-packages (from nltk) (1.4.2)\n",
            "Requirement already satisfied: regex>=2021.8.3 in /usr/local/lib/python3.11/dist-packages (from nltk) (2024.11.6)\n",
            "Requirement already satisfied: tqdm in /usr/local/lib/python3.11/dist-packages (from nltk) (4.67.1)\n"
          ]
        }
      ]
    },
    {
      "cell_type": "code",
      "source": [
        "import contractions\n",
        "import nltk\n",
        "from nltk.tokenize import word_tokenize\n",
        "from nltk.corpus import stopwords\n",
        "from nltk.stem.porter import PorterStemmer"
      ],
      "metadata": {
        "id": "MK5n9x2VK8tu"
      },
      "execution_count": null,
      "outputs": []
    },
    {
      "cell_type": "code",
      "source": [
        "nltk.download('punkt_tab')\n",
        "nltk.download('stopwords')\n",
        "stop_words = stopwords.words('english')\n",
        "ps = PorterStemmer()"
      ],
      "metadata": {
        "colab": {
          "base_uri": "https://localhost:8080/"
        },
        "id": "34JhQ9SeLAGo",
        "outputId": "f6ff86df-d760-4710-d691-1920d7b5126e"
      },
      "execution_count": null,
      "outputs": [
        {
          "output_type": "stream",
          "name": "stderr",
          "text": [
            "[nltk_data] Downloading package punkt_tab to /root/nltk_data...\n",
            "[nltk_data]   Unzipping tokenizers/punkt_tab.zip.\n",
            "[nltk_data] Downloading package stopwords to /root/nltk_data...\n",
            "[nltk_data]   Unzipping corpora/stopwords.zip.\n"
          ]
        }
      ]
    },
    {
      "cell_type": "code",
      "source": [
        "def preprocess_text(text):\n",
        "    text = text.lower().strip()\n",
        "    text = text.replace('%', ' percent')\n",
        "    text = text.replace('$', ' dollar ')\n",
        "    text = text.replace('₹', ' rupee ')\n",
        "    text = text.replace('€', ' euro ')\n",
        "    text = text.replace('@', ' at ')\n",
        "    text = contractions.fix(text)\n",
        "    text = word_tokenize(text)\n",
        "    text = [word for word in text if word.isalnum()]\n",
        "    text = [word for word in text if word not in stop_words]\n",
        "    text = [ps.stem(word) for word in text]\n",
        "    text = ' '.join(text)\n",
        "    return text"
      ],
      "metadata": {
        "id": "VpPUuyWkLFZr"
      },
      "execution_count": null,
      "outputs": []
    },
    {
      "cell_type": "code",
      "source": [
        "df['question1'] = df['question1'].apply(preprocess_text)\n",
        "df['question2'] = df['question2'].apply(preprocess_text)"
      ],
      "metadata": {
        "id": "3JoKU3uFLhk0"
      },
      "execution_count": null,
      "outputs": []
    },
    {
      "cell_type": "code",
      "source": [
        "!pip install numpy==1.24.3\n",
        "!pip install gensim"
      ],
      "metadata": {
        "id": "FVk9oNK5LnvV"
      },
      "execution_count": null,
      "outputs": []
    },
    {
      "cell_type": "code",
      "source": [
        "import gensim\n",
        "from nltk import sent_tokenize\n",
        "from gensim.utils import simple_preprocess\n",
        "from tqdm import tqdm"
      ],
      "metadata": {
        "id": "_3JBJ0pnL50M"
      },
      "execution_count": null,
      "outputs": []
    },
    {
      "cell_type": "code",
      "source": [
        "df_stacked = pd.DataFrame({\n",
        "    'questions': pd.concat([df['question1'], df['question2']])\n",
        "})"
      ],
      "metadata": {
        "id": "uXElyvLnMDEi"
      },
      "execution_count": null,
      "outputs": []
    },
    {
      "cell_type": "code",
      "source": [
        "questions = []\n",
        "for doc in df_stacked['questions']:\n",
        "    for sentence in sent_tokenize(doc):\n",
        "        questions.append(simple_preprocess(sentence))"
      ],
      "metadata": {
        "id": "AcG0rt7RMFrZ"
      },
      "execution_count": null,
      "outputs": []
    },
    {
      "cell_type": "code",
      "source": [
        "model = gensim.models.Word2Vec(\n",
        "    window = 10,\n",
        "    min_count = 2,\n",
        "    vector_size=300\n",
        ")"
      ],
      "metadata": {
        "id": "x1q48L1CMG6D"
      },
      "execution_count": null,
      "outputs": []
    },
    {
      "cell_type": "code",
      "source": [
        "model.build_vocab(questions)\n",
        "model.train(questions, total_examples=model.corpus_count, epochs=model.epochs)"
      ],
      "metadata": {
        "colab": {
          "base_uri": "https://localhost:8080/"
        },
        "id": "dIZEMU3CMJQT",
        "outputId": "a18bc636-415c-4e98-a130-8068b4e59be7"
      },
      "execution_count": null,
      "outputs": [
        {
          "output_type": "execute_result",
          "data": {
            "text/plain": [
              "(20017518, 21240930)"
            ]
          },
          "metadata": {},
          "execution_count": 23
        }
      ]
    },
    {
      "cell_type": "code",
      "source": [
        "len(model.wv.index_to_key)"
      ],
      "metadata": {
        "colab": {
          "base_uri": "https://localhost:8080/"
        },
        "id": "Buq5Gne4MMFT",
        "outputId": "73503bf5-be3f-47f7-9bb2-20f20350a2a1"
      },
      "execution_count": null,
      "outputs": [
        {
          "output_type": "execute_result",
          "data": {
            "text/plain": [
              "33817"
            ]
          },
          "metadata": {},
          "execution_count": 24
        }
      ]
    },
    {
      "cell_type": "code",
      "source": [
        "model.wv.save(\"Questions300_vectors.kv\")\n",
        "model.save(\"Questions300_w2v.model\")"
      ],
      "metadata": {
        "id": "LPpd2ELmMNix"
      },
      "execution_count": null,
      "outputs": []
    },
    {
      "cell_type": "code",
      "source": [
        "def document_vector(doc):\n",
        "    # remove out-of-vocabulary words\n",
        "    doc = [word for word in doc.split() if word in model.wv.index_to_key]\n",
        "    # Check if doc is empty after removing OOV words\n",
        "    if not doc:\n",
        "        # Return a zero vector of the appropriate size if doc is empty\n",
        "        return np.zeros(model.vector_size)\n",
        "    return np.mean(model.wv[doc], axis=0)"
      ],
      "metadata": {
        "id": "LJdysQJuMT1I"
      },
      "execution_count": null,
      "outputs": []
    },
    {
      "cell_type": "code",
      "source": [
        "df['text'] = df['question1'] + ' ' + df['question2']\n",
        "df = df.sample(30000, random_state = 42)"
      ],
      "metadata": {
        "id": "yDMSpbIzmSSa"
      },
      "execution_count": null,
      "outputs": []
    },
    {
      "cell_type": "code",
      "source": [
        "X = []\n",
        "for doc in tqdm(df['text'].values):\n",
        "    X.append(document_vector(doc))"
      ],
      "metadata": {
        "colab": {
          "base_uri": "https://localhost:8080/"
        },
        "id": "Zb3A9g2UMWvk",
        "outputId": "06cd9dc9-e7a0-41f8-87de-1452074258f5"
      },
      "execution_count": null,
      "outputs": [
        {
          "output_type": "stream",
          "name": "stderr",
          "text": [
            "100%|██████████| 30000/30000 [00:53<00:00, 556.92it/s]\n"
          ]
        }
      ]
    },
    {
      "cell_type": "code",
      "source": [
        "X = np.array(X)"
      ],
      "metadata": {
        "id": "PPcKuZ_xMZPv"
      },
      "execution_count": null,
      "outputs": []
    },
    {
      "cell_type": "code",
      "source": [
        "df = np.column_stack((X, np.array(df['is_duplicate'])))"
      ],
      "metadata": {
        "id": "oRNYYMvBMbOT"
      },
      "execution_count": null,
      "outputs": []
    },
    {
      "cell_type": "code",
      "source": [
        "df = pd.DataFrame(df)"
      ],
      "metadata": {
        "id": "4kbAqdATMbzS"
      },
      "execution_count": null,
      "outputs": []
    },
    {
      "cell_type": "code",
      "source": [
        "X = df.drop(300, axis = 1)\n",
        "y = df[300]"
      ],
      "metadata": {
        "id": "YJbw58yXMgMS"
      },
      "execution_count": null,
      "outputs": []
    },
    {
      "cell_type": "code",
      "source": [
        "from sklearn.model_selection import train_test_split\n",
        "from sklearn.metrics import accuracy_score\n",
        "from sklearn.ensemble import RandomForestClassifier\n",
        "from xgboost import XGBClassifier"
      ],
      "metadata": {
        "id": "U7B4WY3Bnpwk"
      },
      "execution_count": null,
      "outputs": []
    },
    {
      "cell_type": "code",
      "source": [
        "X_train,X_test,y_train,y_test = train_test_split(X,y,test_size=0.2,random_state=42)"
      ],
      "metadata": {
        "id": "Z9_2C07kMh9j"
      },
      "execution_count": null,
      "outputs": []
    },
    {
      "cell_type": "code",
      "source": [
        "print(\"Training Random Forest Model\")\n",
        "rf = RandomForestClassifier()\n",
        "rf.fit(X_train,y_train)\n",
        "rf_pred = rf.predict(X_test)\n",
        "accuracy = accuracy_score(y_test,rf_pred)\n",
        "print(f\"Trained Random Forest Model ACCURACY = {accuracy}\")\n",
        "print('-'*10 + '\\n')\n",
        "print(\"Training XGB Model\")\n",
        "xgb = XGBClassifier()\n",
        "xgb.fit(X_train,y_train)\n",
        "xgb_pred = xgb.predict(X_test)\n",
        "accuracy = accuracy_score(y_test,xgb_pred)\n",
        "print(f\"Trained XGB Model ACCURACY = {accuracy}\")\n",
        "print('-'*10+ '\\n')"
      ],
      "metadata": {
        "colab": {
          "base_uri": "https://localhost:8080/"
        },
        "id": "zb2qZk1JMj8G",
        "outputId": "af416181-4d81-410d-93ff-e2c78010d48a"
      },
      "execution_count": null,
      "outputs": [
        {
          "output_type": "stream",
          "name": "stdout",
          "text": [
            "Training Random Forest Model\n",
            "Trained Random Forest Model ACCURACY = 0.7486666666666667\n",
            "----------\n",
            "\n",
            "Training XGB Model\n",
            "Trained XGB Model ACCURACY = 0.7401666666666666\n",
            "----------\n",
            "\n"
          ]
        }
      ]
    },
    {
      "cell_type": "markdown",
      "source": [
        "# ***T1***"
      ],
      "metadata": {
        "id": "zOdM_oyubm5o"
      }
    },
    {
      "cell_type": "code",
      "source": [
        "!pip install numpy==1.24.3 # this ensures NumPy 1.24.3 which has dtypes attribute\n",
        "!pip install --upgrade jax jaxlib # upgrade or reinstall jax and jaxlib to ensure compatibility\n",
        "!pip install ot #installing ot again for compatibility\n",
        "!pip install fuzzywuzzy\n",
        "!pip install python-Levenshtein\n",
        "!pip install contractions\n",
        "!pip install nltk\n",
        "!pip install wordcloud\n",
        "!pip install gensim"
      ],
      "metadata": {
        "colab": {
          "base_uri": "https://localhost:8080/",
          "height": 1000
        },
        "id": "HnONj_BSEqmd",
        "outputId": "0de16663-802e-48e5-94f8-fefd4795034f"
      },
      "execution_count": null,
      "outputs": [
        {
          "output_type": "stream",
          "name": "stdout",
          "text": [
            "Collecting numpy==1.24.3\n",
            "  Using cached numpy-1.24.3-cp311-cp311-manylinux_2_17_x86_64.manylinux2014_x86_64.whl.metadata (5.6 kB)\n",
            "Using cached numpy-1.24.3-cp311-cp311-manylinux_2_17_x86_64.manylinux2014_x86_64.whl (17.3 MB)\n",
            "Installing collected packages: numpy\n",
            "  Attempting uninstall: numpy\n",
            "    Found existing installation: numpy 1.26.4\n",
            "    Uninstalling numpy-1.26.4:\n",
            "      Successfully uninstalled numpy-1.26.4\n",
            "\u001b[31mERROR: pip's dependency resolver does not currently take into account all the packages that are installed. This behaviour is the source of the following dependency conflicts.\n",
            "jax 0.6.0 requires numpy>=1.25, but you have numpy 1.24.3 which is incompatible.\n",
            "jaxlib 0.6.0 requires numpy>=1.25, but you have numpy 1.24.3 which is incompatible.\n",
            "albumentations 2.0.5 requires numpy>=1.24.4, but you have numpy 1.24.3 which is incompatible.\n",
            "pymc 5.21.2 requires numpy>=1.25.0, but you have numpy 1.24.3 which is incompatible.\n",
            "tensorflow 2.18.0 requires ml-dtypes<0.5.0,>=0.4.0, but you have ml-dtypes 0.5.1 which is incompatible.\n",
            "tensorflow 2.18.0 requires numpy<2.1.0,>=1.26.0, but you have numpy 1.24.3 which is incompatible.\n",
            "treescope 0.1.9 requires numpy>=1.25.2, but you have numpy 1.24.3 which is incompatible.\n",
            "albucore 0.0.23 requires numpy>=1.24.4, but you have numpy 1.24.3 which is incompatible.\n",
            "blosc2 3.3.0 requires numpy>=1.26, but you have numpy 1.24.3 which is incompatible.\n",
            "thinc 8.3.6 requires numpy<3.0.0,>=2.0.0, but you have numpy 1.24.3 which is incompatible.\u001b[0m\u001b[31m\n",
            "\u001b[0mSuccessfully installed numpy-1.24.3\n"
          ]
        },
        {
          "output_type": "display_data",
          "data": {
            "application/vnd.colab-display-data+json": {
              "pip_warning": {
                "packages": [
                  "numpy"
                ]
              },
              "id": "a8ec6a2852ba49daa9c7bed18eff4e8d"
            }
          },
          "metadata": {}
        },
        {
          "output_type": "stream",
          "name": "stdout",
          "text": [
            "Requirement already satisfied: jax in /usr/local/lib/python3.11/dist-packages (0.6.0)\n",
            "Requirement already satisfied: jaxlib in /usr/local/lib/python3.11/dist-packages (0.6.0)\n",
            "Requirement already satisfied: ml_dtypes>=0.5.0 in /usr/local/lib/python3.11/dist-packages (from jax) (0.5.1)\n",
            "Collecting numpy>=1.25 (from jax)\n",
            "  Using cached numpy-2.2.4-cp311-cp311-manylinux_2_17_x86_64.manylinux2014_x86_64.whl.metadata (62 kB)\n",
            "Requirement already satisfied: opt_einsum in /usr/local/lib/python3.11/dist-packages (from jax) (3.4.0)\n",
            "Requirement already satisfied: scipy>=1.11.1 in /usr/local/lib/python3.11/dist-packages (from jax) (1.13.1)\n",
            "Using cached numpy-2.2.4-cp311-cp311-manylinux_2_17_x86_64.manylinux2014_x86_64.whl (16.4 MB)\n",
            "Installing collected packages: numpy\n",
            "  Attempting uninstall: numpy\n",
            "    Found existing installation: numpy 1.24.3\n",
            "    Uninstalling numpy-1.24.3:\n",
            "      Successfully uninstalled numpy-1.24.3\n",
            "\u001b[31mERROR: pip's dependency resolver does not currently take into account all the packages that are installed. This behaviour is the source of the following dependency conflicts.\n",
            "gensim 4.3.3 requires numpy<2.0,>=1.18.5, but you have numpy 2.2.4 which is incompatible.\n",
            "numba 0.60.0 requires numpy<2.1,>=1.22, but you have numpy 2.2.4 which is incompatible.\n",
            "tensorflow 2.18.0 requires ml-dtypes<0.5.0,>=0.4.0, but you have ml-dtypes 0.5.1 which is incompatible.\n",
            "tensorflow 2.18.0 requires numpy<2.1.0,>=1.26.0, but you have numpy 2.2.4 which is incompatible.\u001b[0m\u001b[31m\n",
            "\u001b[0mSuccessfully installed numpy-2.2.4\n",
            "\u001b[31mERROR: Could not find a version that satisfies the requirement ot (from versions: none)\u001b[0m\u001b[31m\n",
            "\u001b[0m\u001b[31mERROR: No matching distribution found for ot\u001b[0m\u001b[31m\n",
            "\u001b[0mRequirement already satisfied: fuzzywuzzy in /usr/local/lib/python3.11/dist-packages (0.18.0)\n",
            "Requirement already satisfied: python-Levenshtein in /usr/local/lib/python3.11/dist-packages (0.27.1)\n",
            "Requirement already satisfied: Levenshtein==0.27.1 in /usr/local/lib/python3.11/dist-packages (from python-Levenshtein) (0.27.1)\n",
            "Requirement already satisfied: rapidfuzz<4.0.0,>=3.9.0 in /usr/local/lib/python3.11/dist-packages (from Levenshtein==0.27.1->python-Levenshtein) (3.13.0)\n",
            "Requirement already satisfied: contractions in /usr/local/lib/python3.11/dist-packages (0.1.73)\n",
            "Requirement already satisfied: textsearch>=0.0.21 in /usr/local/lib/python3.11/dist-packages (from contractions) (0.0.24)\n",
            "Requirement already satisfied: anyascii in /usr/local/lib/python3.11/dist-packages (from textsearch>=0.0.21->contractions) (0.3.2)\n",
            "Requirement already satisfied: pyahocorasick in /usr/local/lib/python3.11/dist-packages (from textsearch>=0.0.21->contractions) (2.1.0)\n",
            "Requirement already satisfied: nltk in /usr/local/lib/python3.11/dist-packages (3.9.1)\n",
            "Requirement already satisfied: click in /usr/local/lib/python3.11/dist-packages (from nltk) (8.1.8)\n",
            "Requirement already satisfied: joblib in /usr/local/lib/python3.11/dist-packages (from nltk) (1.4.2)\n",
            "Requirement already satisfied: regex>=2021.8.3 in /usr/local/lib/python3.11/dist-packages (from nltk) (2024.11.6)\n",
            "Requirement already satisfied: tqdm in /usr/local/lib/python3.11/dist-packages (from nltk) (4.67.1)\n",
            "Requirement already satisfied: wordcloud in /usr/local/lib/python3.11/dist-packages (1.9.4)\n",
            "Requirement already satisfied: numpy>=1.6.1 in /usr/local/lib/python3.11/dist-packages (from wordcloud) (2.2.4)\n",
            "Requirement already satisfied: pillow in /usr/local/lib/python3.11/dist-packages (from wordcloud) (11.1.0)\n",
            "Requirement already satisfied: matplotlib in /usr/local/lib/python3.11/dist-packages (from wordcloud) (3.10.0)\n",
            "Requirement already satisfied: contourpy>=1.0.1 in /usr/local/lib/python3.11/dist-packages (from matplotlib->wordcloud) (1.3.1)\n",
            "Requirement already satisfied: cycler>=0.10 in /usr/local/lib/python3.11/dist-packages (from matplotlib->wordcloud) (0.12.1)\n",
            "Requirement already satisfied: fonttools>=4.22.0 in /usr/local/lib/python3.11/dist-packages (from matplotlib->wordcloud) (4.57.0)\n",
            "Requirement already satisfied: kiwisolver>=1.3.1 in /usr/local/lib/python3.11/dist-packages (from matplotlib->wordcloud) (1.4.8)\n",
            "Requirement already satisfied: packaging>=20.0 in /usr/local/lib/python3.11/dist-packages (from matplotlib->wordcloud) (24.2)\n",
            "Requirement already satisfied: pyparsing>=2.3.1 in /usr/local/lib/python3.11/dist-packages (from matplotlib->wordcloud) (3.2.3)\n",
            "Requirement already satisfied: python-dateutil>=2.7 in /usr/local/lib/python3.11/dist-packages (from matplotlib->wordcloud) (2.8.2)\n",
            "Requirement already satisfied: six>=1.5 in /usr/local/lib/python3.11/dist-packages (from python-dateutil>=2.7->matplotlib->wordcloud) (1.17.0)\n",
            "Requirement already satisfied: gensim in /usr/local/lib/python3.11/dist-packages (4.3.3)\n",
            "Collecting numpy<2.0,>=1.18.5 (from gensim)\n",
            "  Using cached numpy-1.26.4-cp311-cp311-manylinux_2_17_x86_64.manylinux2014_x86_64.whl.metadata (61 kB)\n",
            "Requirement already satisfied: scipy<1.14.0,>=1.7.0 in /usr/local/lib/python3.11/dist-packages (from gensim) (1.13.1)\n",
            "Requirement already satisfied: smart-open>=1.8.1 in /usr/local/lib/python3.11/dist-packages (from gensim) (7.1.0)\n",
            "Requirement already satisfied: wrapt in /usr/local/lib/python3.11/dist-packages (from smart-open>=1.8.1->gensim) (1.17.2)\n",
            "Using cached numpy-1.26.4-cp311-cp311-manylinux_2_17_x86_64.manylinux2014_x86_64.whl (18.3 MB)\n",
            "Installing collected packages: numpy\n",
            "  Attempting uninstall: numpy\n",
            "    Found existing installation: numpy 2.2.4\n",
            "    Uninstalling numpy-2.2.4:\n",
            "      Successfully uninstalled numpy-2.2.4\n",
            "\u001b[31mERROR: pip's dependency resolver does not currently take into account all the packages that are installed. This behaviour is the source of the following dependency conflicts.\n",
            "tensorflow 2.18.0 requires ml-dtypes<0.5.0,>=0.4.0, but you have ml-dtypes 0.5.1 which is incompatible.\n",
            "thinc 8.3.6 requires numpy<3.0.0,>=2.0.0, but you have numpy 1.26.4 which is incompatible.\u001b[0m\u001b[31m\n",
            "\u001b[0mSuccessfully installed numpy-1.26.4\n"
          ]
        }
      ]
    },
    {
      "cell_type": "code",
      "source": [
        "import gensim\n",
        "from nltk import sent_tokenize\n",
        "from gensim.utils import simple_preprocess\n",
        "from tqdm import tqdm"
      ],
      "metadata": {
        "id": "DFI3MkxpEoJb"
      },
      "execution_count": null,
      "outputs": []
    },
    {
      "cell_type": "code",
      "source": [
        "df = pd.read_csv('questions.csv')"
      ],
      "metadata": {
        "id": "3zmpczgJbmkP"
      },
      "execution_count": null,
      "outputs": []
    },
    {
      "cell_type": "code",
      "source": [
        "df.dropna(axis=0, inplace=True)"
      ],
      "metadata": {
        "id": "vncRS-3ab4W0"
      },
      "execution_count": null,
      "outputs": []
    },
    {
      "cell_type": "code",
      "source": [
        "df.drop(['id', 'qid1', 'qid2'], axis=1, inplace=True)"
      ],
      "metadata": {
        "id": "Wdz_8jfSb4UE"
      },
      "execution_count": null,
      "outputs": []
    },
    {
      "cell_type": "code",
      "source": [
        "df = df.sample(30000, random_state=2).reset_index()"
      ],
      "metadata": {
        "id": "mSMtQ7Ctb7nb"
      },
      "execution_count": null,
      "outputs": []
    },
    {
      "cell_type": "code",
      "source": [
        "!pip install contractions\n",
        "!pip install nltk"
      ],
      "metadata": {
        "colab": {
          "base_uri": "https://localhost:8080/"
        },
        "id": "iFUEiNZIb-N2",
        "outputId": "71f2c8f7-e6a3-4e89-a4aa-3f40eb2bc1ac"
      },
      "execution_count": null,
      "outputs": [
        {
          "output_type": "stream",
          "name": "stdout",
          "text": [
            "Requirement already satisfied: contractions in /usr/local/lib/python3.11/dist-packages (0.1.73)\n",
            "Requirement already satisfied: textsearch>=0.0.21 in /usr/local/lib/python3.11/dist-packages (from contractions) (0.0.24)\n",
            "Requirement already satisfied: anyascii in /usr/local/lib/python3.11/dist-packages (from textsearch>=0.0.21->contractions) (0.3.2)\n",
            "Requirement already satisfied: pyahocorasick in /usr/local/lib/python3.11/dist-packages (from textsearch>=0.0.21->contractions) (2.1.0)\n",
            "Requirement already satisfied: nltk in /usr/local/lib/python3.11/dist-packages (3.9.1)\n",
            "Requirement already satisfied: click in /usr/local/lib/python3.11/dist-packages (from nltk) (8.1.8)\n",
            "Requirement already satisfied: joblib in /usr/local/lib/python3.11/dist-packages (from nltk) (1.4.2)\n",
            "Requirement already satisfied: regex>=2021.8.3 in /usr/local/lib/python3.11/dist-packages (from nltk) (2024.11.6)\n",
            "Requirement already satisfied: tqdm in /usr/local/lib/python3.11/dist-packages (from nltk) (4.67.1)\n"
          ]
        }
      ]
    },
    {
      "cell_type": "code",
      "source": [
        "import contractions\n",
        "import nltk\n",
        "from nltk.tokenize import word_tokenize\n",
        "from nltk.corpus import stopwords"
      ],
      "metadata": {
        "id": "TzZqBrIJcID0"
      },
      "execution_count": null,
      "outputs": []
    },
    {
      "cell_type": "code",
      "source": [
        "nltk.download('punkt_tab')\n",
        "nltk.download('stopwords')\n",
        "stop_words = stopwords.words('english')"
      ],
      "metadata": {
        "colab": {
          "base_uri": "https://localhost:8080/"
        },
        "id": "19f4IZv0cKMR",
        "outputId": "fc746ebe-63bd-4b02-d48c-970133289b3e"
      },
      "execution_count": null,
      "outputs": [
        {
          "output_type": "stream",
          "name": "stderr",
          "text": [
            "[nltk_data] Downloading package punkt_tab to /root/nltk_data...\n",
            "[nltk_data]   Unzipping tokenizers/punkt_tab.zip.\n",
            "[nltk_data] Downloading package stopwords to /root/nltk_data...\n",
            "[nltk_data]   Unzipping corpora/stopwords.zip.\n"
          ]
        }
      ]
    },
    {
      "cell_type": "code",
      "source": [
        "def preprocess_text(text):\n",
        "    text = text.lower().strip()\n",
        "    text = text.replace('%', ' percent')\n",
        "    text = text.replace('$', ' dollar ')\n",
        "    text = text.replace('₹', ' rupee ')\n",
        "    text = text.replace('€', ' euro ')\n",
        "    text = text.replace('@', ' at ')\n",
        "    text = contractions.fix(text)\n",
        "    text = word_tokenize(text)\n",
        "    text = [word for word in text if word.isalnum()]\n",
        "    text = \" \".join(text)\n",
        "    return text"
      ],
      "metadata": {
        "id": "jcLFr-zycLwB"
      },
      "execution_count": null,
      "outputs": []
    },
    {
      "cell_type": "code",
      "source": [
        "df['question1'] = df['question1'].apply(preprocess_text)\n",
        "df['question2'] = df['question2'].apply(preprocess_text)"
      ],
      "metadata": {
        "id": "G3VpKqjrcNwp"
      },
      "execution_count": null,
      "outputs": []
    },
    {
      "cell_type": "code",
      "source": [
        "df['len_q1'] = df['question1'].apply(lambda x: len(x.split()))\n",
        "df['len_q2'] = df['question2'].apply(lambda x: len(x.split()))"
      ],
      "metadata": {
        "id": "68I3hugbcQ_L"
      },
      "execution_count": null,
      "outputs": []
    },
    {
      "cell_type": "code",
      "source": [
        "def get_common_words(q1, q2):\n",
        "    words1 = set(q1.split())\n",
        "    words2 = set(q2.split())\n",
        "    return len(words1 & words2)"
      ],
      "metadata": {
        "id": "WKpefOrwcTMl"
      },
      "execution_count": null,
      "outputs": []
    },
    {
      "cell_type": "code",
      "source": [
        "for i in range(len(df)):\n",
        "    df.loc[i, 'common_words'] = get_common_words(df.loc[i, 'question1'], df.loc[i, 'question2'])"
      ],
      "metadata": {
        "id": "uedPlB7gcUuf"
      },
      "execution_count": null,
      "outputs": []
    },
    {
      "cell_type": "code",
      "source": [
        "def stopword_count(text):\n",
        "    stp_text = [word for word in text.split() if word in stop_words]\n",
        "    return len(stp_text)"
      ],
      "metadata": {
        "id": "RvE2JNLBcaU3"
      },
      "execution_count": null,
      "outputs": []
    },
    {
      "cell_type": "code",
      "source": [
        "df['stop_words_q1'] = df['question1'].apply(stopword_count)\n",
        "df['stop_words_q2'] = df['question2'].apply(stopword_count)"
      ],
      "metadata": {
        "id": "FitnxU_6fYkM"
      },
      "execution_count": null,
      "outputs": []
    },
    {
      "cell_type": "code",
      "source": [
        "def get_common_stpwords(q1, q2):\n",
        "    stp_q1 = set([word for word in q1.split() if word in stop_words])\n",
        "    stp_q2 = set([word for word in q2.split() if word in stop_words])\n",
        "    return len(stp_q1 & stp_q2)"
      ],
      "metadata": {
        "id": "hPCZ6DulfbIz"
      },
      "execution_count": null,
      "outputs": []
    },
    {
      "cell_type": "code",
      "source": [
        "for i in range(len(df)):\n",
        "    df.loc[i, 'common_stpwords'] = get_common_stpwords(df.loc[i, 'question1'], df.loc[i, 'question2'])"
      ],
      "metadata": {
        "id": "t2jjY39Afc8Y"
      },
      "execution_count": null,
      "outputs": []
    },
    {
      "cell_type": "code",
      "source": [
        "!pip install fuzzywuzzy\n",
        "!pip install python-Levenshtein"
      ],
      "metadata": {
        "colab": {
          "base_uri": "https://localhost:8080/"
        },
        "id": "x665Sy9Gfe32",
        "outputId": "73717ab9-5ff9-4993-d689-a16d6baf7ffa"
      },
      "execution_count": null,
      "outputs": [
        {
          "output_type": "stream",
          "name": "stdout",
          "text": [
            "Requirement already satisfied: fuzzywuzzy in /usr/local/lib/python3.11/dist-packages (0.18.0)\n",
            "Requirement already satisfied: python-Levenshtein in /usr/local/lib/python3.11/dist-packages (0.27.1)\n",
            "Requirement already satisfied: Levenshtein==0.27.1 in /usr/local/lib/python3.11/dist-packages (from python-Levenshtein) (0.27.1)\n",
            "Requirement already satisfied: rapidfuzz<4.0.0,>=3.9.0 in /usr/local/lib/python3.11/dist-packages (from Levenshtein==0.27.1->python-Levenshtein) (3.13.0)\n"
          ]
        }
      ]
    },
    {
      "cell_type": "code",
      "source": [
        "from fuzzywuzzy import fuzz\n",
        "for i in range(len(df)):\n",
        "    df.loc[i, 'fuzz_ratio'] = fuzz.ratio(df.loc[i, 'question1'], df.loc[i, 'question2'])\n",
        "    df.loc[i, 'fuzz_partial_ratio'] = fuzz.partial_ratio(df.loc[i, 'question1'], df.loc[i, 'question2'])\n",
        "    df.loc[i, 'token_sort_ratio'] = fuzz.token_sort_ratio(df.loc[i, 'question1'], df.loc[i, 'question2'])\n",
        "    df.loc[i, 'token_set_ratio'] = fuzz.token_set_ratio(df.loc[i, 'question1'], df.loc[i, 'question2'])"
      ],
      "metadata": {
        "id": "Nz-faYgCfg3c"
      },
      "execution_count": null,
      "outputs": []
    },
    {
      "cell_type": "code",
      "source": [
        "text_df = df[['question1', 'question2']]\n",
        "df = df.drop(['question1', 'question2'], axis=1)"
      ],
      "metadata": {
        "id": "wmNVj5qrf1b4"
      },
      "execution_count": null,
      "outputs": []
    },
    {
      "cell_type": "code",
      "source": [
        "def jaccard_similarity(q1, q2):\n",
        "    s1 = set(word_tokenize(q1))\n",
        "    s2 = set(word_tokenize(q2))\n",
        "    if not s1 or not s2:\n",
        "        return 0\n",
        "    return len(s1.intersection(s2)) / len(s1.union(s2))"
      ],
      "metadata": {
        "id": "UveNPnZ1yD1J"
      },
      "execution_count": null,
      "outputs": []
    },
    {
      "cell_type": "code",
      "source": [
        "for i in range(len(df)):\n",
        "    df.loc[i, 'j_sim'] = jaccard_similarity(text_df.loc[i, 'question1'], text_df.loc[i, 'question2'])"
      ],
      "metadata": {
        "id": "4pn6l_x-yFS4"
      },
      "execution_count": null,
      "outputs": []
    },
    {
      "cell_type": "code",
      "source": [
        "from nltk.stem.porter import PorterStemmer\n",
        "from gensim.models import Word2Vec\n",
        "ps = PorterStemmer()"
      ],
      "metadata": {
        "id": "GxF51SDfyJTq"
      },
      "execution_count": null,
      "outputs": []
    },
    {
      "cell_type": "code",
      "source": [
        "model = Word2Vec.load(\"questions_w2v.model\")"
      ],
      "metadata": {
        "id": "cd-w3pqtzdEG"
      },
      "execution_count": null,
      "outputs": []
    },
    {
      "cell_type": "code",
      "source": [
        "sfty = 1e-04\n",
        "df['cw_min'] = df['common_words'] / (df[['len_q1', 'len_q2']].min(axis=1) + sfty)\n",
        "df['cw_max'] = df['common_words'] / (df[['len_q1', 'len_q2']].max(axis=1) + sfty)\n",
        "df['cw_mean'] = df['common_words'] / (df[['len_q1', 'len_q2']].mean(axis=1) + sfty)"
      ],
      "metadata": {
        "id": "uwBXtzDDz2LX"
      },
      "execution_count": null,
      "outputs": []
    },
    {
      "cell_type": "code",
      "source": [
        "df['cstp_min'] = df['common_stpwords'] / (df[['len_q1', 'len_q2']].min(axis=1) + sfty)\n",
        "df['cstp_max'] = df['common_stpwords'] / (df[['len_q1', 'len_q2']].max(axis=1) + sfty)\n",
        "df['cstp_mean'] = df['common_stpwords'] / (df[['len_q1', 'len_q2']].mean(axis=1) + sfty)"
      ],
      "metadata": {
        "id": "aBKKr1V20ASP"
      },
      "execution_count": null,
      "outputs": []
    },
    {
      "cell_type": "code",
      "source": [
        "df['cstp_stplen_min'] = df['common_stpwords'] / (df[['stop_words_q1', 'stop_words_q2']].min(axis=1) + sfty)\n",
        "df['cstp_stplen_max'] = df['common_stpwords'] / (df[['stop_words_q1', 'stop_words_q2']].max(axis=1) + sfty)\n",
        "df['cstp_stplen_mean'] = df['common_stpwords'] / (df[['stop_words_q1', 'stop_words_q2']].mean(axis=1) + sfty)"
      ],
      "metadata": {
        "id": "0XspqbYf0CDj"
      },
      "execution_count": null,
      "outputs": []
    },
    {
      "cell_type": "code",
      "source": [
        "df.columns"
      ],
      "metadata": {
        "colab": {
          "base_uri": "https://localhost:8080/"
        },
        "id": "hLUD7i0KLWYw",
        "outputId": "296a7706-55d1-45db-d0d2-a6a41fad955b"
      },
      "execution_count": null,
      "outputs": [
        {
          "output_type": "execute_result",
          "data": {
            "text/plain": [
              "Index(['index', 'is_duplicate', 'len_q1', 'len_q2', 'common_words',\n",
              "       'stop_words_q1', 'stop_words_q2', 'common_stpwords', 'fuzz_ratio',\n",
              "       'fuzz_partial_ratio', 'token_sort_ratio', 'token_set_ratio', 'j_sim',\n",
              "       'cw_min', 'cw_max', 'cw_mean', 'cstp_min', 'cstp_max', 'cstp_mean',\n",
              "       'cstp_stplen_min', 'cstp_stplen_max', 'cstp_stplen_mean'],\n",
              "      dtype='object')"
            ]
          },
          "metadata": {},
          "execution_count": 34
        }
      ]
    },
    {
      "cell_type": "code",
      "source": [
        "plt.figure(figsize=(12,12))\n",
        "sns.heatmap(df.corr(), cmap='viridis')"
      ],
      "metadata": {
        "colab": {
          "base_uri": "https://localhost:8080/",
          "height": 1000
        },
        "id": "3Ea1pjdpLOsm",
        "outputId": "903b66a7-3167-4a60-9cb7-fd7921befd1d"
      },
      "execution_count": null,
      "outputs": [
        {
          "output_type": "execute_result",
          "data": {
            "text/plain": [
              "<Axes: >"
            ]
          },
          "metadata": {},
          "execution_count": 51
        },
        {
          "output_type": "display_data",
          "data": {
            "text/plain": [
              "<Figure size 1200x1200 with 2 Axes>"
            ],
            "image/png": "[encoded data removed]"
          },
          "metadata": {}
        }
      ]
    },
    {
      "cell_type": "code",
      "source": [
        "from sklearn.preprocessing import StandardScaler"
      ],
      "metadata": {
        "id": "Dv3Qv_D1FfOY"
      },
      "execution_count": null,
      "outputs": []
    },
    {
      "cell_type": "code",
      "source": [
        "y = df['is_duplicate']\n",
        "df = df.drop(['index', 'is_duplicate'], axis = 1)\n",
        "X = StandardScaler().fit_transform(df)"
      ],
      "metadata": {
        "id": "krFNmjkE0CsL"
      },
      "execution_count": null,
      "outputs": []
    },
    {
      "cell_type": "code",
      "source": [
        "from tqdm import tqdm"
      ],
      "metadata": {
        "id": "JxEISmvyC99d"
      },
      "execution_count": null,
      "outputs": []
    },
    {
      "cell_type": "code",
      "source": [
        "def document_vector(doc):\n",
        "    # remove out-of-vocabulary words\n",
        "    doc = [word for word in doc.split() if word in model.wv.index_to_key]\n",
        "    # Check if doc is empty after removing OOV words\n",
        "    if not doc:\n",
        "        # Return a zero vector of the appropriate size if doc is empty\n",
        "        return np.zeros(model.vector_size)\n",
        "    return np.mean(model.wv[doc], axis=0)"
      ],
      "metadata": {
        "id": "T9UAf8HrC-c_"
      },
      "execution_count": null,
      "outputs": []
    },
    {
      "cell_type": "code",
      "source": [
        "text_df['text'] = text_df['question1'] + ' ' + text_df['question2']"
      ],
      "metadata": {
        "id": "uGo_KtRcDBYu"
      },
      "execution_count": null,
      "outputs": []
    },
    {
      "cell_type": "code",
      "source": [
        "X_text = []\n",
        "for doc in tqdm(text_df['text'].values):\n",
        "    X_text.append(document_vector(doc))"
      ],
      "metadata": {
        "colab": {
          "base_uri": "https://localhost:8080/"
        },
        "id": "pKRyQX5vDCIY",
        "outputId": "9d09b6d7-d3be-4fde-9740-7a184ecd78fb"
      },
      "execution_count": null,
      "outputs": [
        {
          "output_type": "stream",
          "name": "stderr",
          "text": [
            "100%|██████████| 30000/30000 [04:18<00:00, 115.99it/s]\n"
          ]
        }
      ]
    },
    {
      "cell_type": "code",
      "source": [
        "X = np.array(X)\n",
        "X_text = np.array(X_text)\n",
        "X = np.column_stack((X, X_text))"
      ],
      "metadata": {
        "id": "NT7ueTVBDEuh"
      },
      "execution_count": null,
      "outputs": []
    },
    {
      "cell_type": "code",
      "source": [
        "from sklearn.model_selection import train_test_split\n",
        "from sklearn.metrics import accuracy_score,confusion_matrix,classification_report\n",
        "from sklearn.ensemble import RandomForestClassifier\n",
        "from xgboost import XGBClassifier"
      ],
      "metadata": {
        "id": "3kWwkArWDr7S"
      },
      "execution_count": null,
      "outputs": []
    },
    {
      "cell_type": "code",
      "source": [
        "X_train,X_test,y_train,y_test = train_test_split(X,y,test_size=0.2,random_state=2)"
      ],
      "metadata": {
        "id": "LO8mzRU7Dt_d"
      },
      "execution_count": null,
      "outputs": []
    },
    {
      "cell_type": "code",
      "source": [
        "print(\"Training Random Forest Model\")\n",
        "rf = RandomForestClassifier()\n",
        "rf.fit(X_train,y_train)\n",
        "rf_pred = rf.predict(X_test)\n",
        "accuracy = accuracy_score(y_test,rf_pred)\n",
        "print(f\"Trained Random Forest Model ACCURACY = {accuracy}\")\n",
        "print('-'*10 + '\\n')\n",
        "print(\"Training XGB Model\")\n",
        "xgb = XGBClassifier()\n",
        "xgb.fit(X_train,y_train)\n",
        "xgb_pred = xgb.predict(X_test)\n",
        "accuracy = accuracy_score(y_test,xgb_pred)\n",
        "print(f\"Trained XGB Model ACCURACY = {accuracy}\")\n",
        "print('-'*10+ '\\n')"
      ],
      "metadata": {
        "colab": {
          "base_uri": "https://localhost:8080/"
        },
        "id": "LEx6L_fsDwp8",
        "outputId": "2fa83da5-bad3-4715-d7d1-5cf7be9e48a2"
      },
      "execution_count": null,
      "outputs": [
        {
          "output_type": "stream",
          "name": "stdout",
          "text": [
            "Training Random Forest Model\n",
            "Trained Random Forest Model ACCURACY = 0.7725\n",
            "----------\n",
            "\n",
            "Training XGB Model\n",
            "Trained XGB Model ACCURACY = 0.7663333333333333\n",
            "----------\n",
            "\n"
          ]
        }
      ]
    },
    {
      "cell_type": "code",
      "source": [
        "correlated_pairs = []\n",
        "corr_mtrx = df.corr()\n",
        "for i in range(len(df.columns)):\n",
        "    for j in range(i+1):\n",
        "        if i == j:\n",
        "            continue\n",
        "        if abs(corr_mtrx.iloc[i, j]) > 0.95:\n",
        "            correlated_pairs.append((corr_mtrx.columns[i], corr_mtrx.columns[j]))"
      ],
      "metadata": {
        "id": "N30tqEAdoKfV"
      },
      "execution_count": null,
      "outputs": []
    },
    {
      "cell_type": "code",
      "source": [
        "correlated_pairs"
      ],
      "metadata": {
        "colab": {
          "base_uri": "https://localhost:8080/"
        },
        "id": "LF9Tg3botEis",
        "outputId": "41e6277b-2d7f-487e-a59b-eeb7a29946df"
      },
      "execution_count": null,
      "outputs": [
        {
          "output_type": "execute_result",
          "data": {
            "text/plain": [
              "[('cw_max', 'j_sim'),\n",
              " ('cw_mean', 'j_sim'),\n",
              " ('cw_mean', 'cw_min'),\n",
              " ('cw_mean', 'cw_max'),\n",
              " ('cstp_mean', 'cstp_min'),\n",
              " ('cstp_mean', 'cstp_max'),\n",
              " ('cstp_stplen_mean', 'cstp_stplen_max')]"
            ]
          },
          "metadata": {},
          "execution_count": 46
        }
      ]
    },
    {
      "cell_type": "markdown",
      "source": [
        "dropping some features"
      ],
      "metadata": {
        "id": "8G_TG_S4v5uK"
      }
    },
    {
      "cell_type": "code",
      "source": [
        "X = StandardScaler().fit_transform(df.drop(['cw_max', 'cw_min', 'cstp_min', 'cstp_max', 'cstp_stplen_mean'], axis=1))"
      ],
      "metadata": {
        "id": "EiTfRQ2fv9ox"
      },
      "execution_count": null,
      "outputs": []
    },
    {
      "cell_type": "code",
      "source": [
        "X = np.array(X)\n",
        "X = np.column_stack((X, X_text))"
      ],
      "metadata": {
        "id": "EmBJv3ryxmhq"
      },
      "execution_count": null,
      "outputs": []
    },
    {
      "cell_type": "code",
      "source": [
        "X_train,X_test,y_train,y_test = train_test_split(X,y,test_size=0.2,random_state=2)"
      ],
      "metadata": {
        "id": "NILIJImC0_WB"
      },
      "execution_count": null,
      "outputs": []
    },
    {
      "cell_type": "code",
      "source": [
        "print(\"Training Random Forest Model\")\n",
        "rf = RandomForestClassifier()\n",
        "rf.fit(X_train,y_train)\n",
        "rf_pred = rf.predict(X_test)\n",
        "accuracy = accuracy_score(y_test,rf_pred)\n",
        "print(f\"Trained Random Forest Model ACCURACY = {accuracy}\")\n",
        "print('-'*10 + '\\n')\n",
        "print(\"Training XGB Model\")\n",
        "xgb = XGBClassifier()\n",
        "xgb.fit(X_train,y_train)\n",
        "xgb_pred = xgb.predict(X_test)\n",
        "accuracy = accuracy_score(y_test,xgb_pred)\n",
        "print(f\"Trained XGB Model ACCURACY = {accuracy}\")\n",
        "print('-'*10+ '\\n')"
      ],
      "metadata": {
        "colab": {
          "base_uri": "https://localhost:8080/"
        },
        "id": "T9eMX7Qsy7Iq",
        "outputId": "11eecf35-9323-44bf-b328-1d4a47ea166b"
      },
      "execution_count": null,
      "outputs": [
        {
          "output_type": "stream",
          "name": "stdout",
          "text": [
            "Training Random Forest Model\n",
            "Trained Random Forest Model ACCURACY = 0.7628333333333334\n",
            "----------\n",
            "\n",
            "Training XGB Model\n",
            "Trained XGB Model ACCURACY = 0.7738333333333334\n",
            "----------\n",
            "\n"
          ]
        }
      ]
    },
    {
      "cell_type": "code",
      "source": [
        "X = StandardScaler().fit_transform(df)"
      ],
      "metadata": {
        "id": "tOxIwwjk4mMs"
      },
      "execution_count": null,
      "outputs": []
    },
    {
      "cell_type": "code",
      "source": [
        "X = np.array(X)"
      ],
      "metadata": {
        "id": "_l68tdRM4on2"
      },
      "execution_count": null,
      "outputs": []
    },
    {
      "cell_type": "code",
      "source": [
        "from sklearn.feature_selection import SelectKBest, f_classif\n",
        "selector = SelectKBest(f_classif, k=16)\n",
        "X = selector.fit_transform(X, y)"
      ],
      "metadata": {
        "id": "WvkZ3KGO2WrD"
      },
      "execution_count": null,
      "outputs": []
    },
    {
      "cell_type": "code",
      "source": [
        "X = np.column_stack((X, X_text))"
      ],
      "metadata": {
        "id": "d5KwZTKQ9I3b"
      },
      "execution_count": null,
      "outputs": []
    },
    {
      "cell_type": "code",
      "source": [
        "X_train,X_test,y_train,y_test = train_test_split(X,y,test_size=0.2,random_state=2)"
      ],
      "metadata": {
        "id": "XQdd7Vl437Nx"
      },
      "execution_count": null,
      "outputs": []
    },
    {
      "cell_type": "code",
      "source": [
        "print(\"Training Random Forest Model\")\n",
        "rf = RandomForestClassifier()\n",
        "rf.fit(X_train,y_train)\n",
        "rf_pred = rf.predict(X_test)\n",
        "accuracy = accuracy_score(y_test,rf_pred)\n",
        "print(f\"Trained Random Forest Model ACCURACY = {accuracy}\")\n",
        "print('-'*10 + '\\n')\n",
        "print(\"Training XGB Model\")\n",
        "xgb = XGBClassifier()\n",
        "xgb.fit(X_train,y_train)\n",
        "xgb_pred = xgb.predict(X_test)\n",
        "accuracy = accuracy_score(y_test,xgb_pred)\n",
        "print(f\"Trained XGB Model ACCURACY = {accuracy}\")\n",
        "print('-'*10+ '\\n')"
      ],
      "metadata": {
        "colab": {
          "base_uri": "https://localhost:8080/"
        },
        "id": "BJ1ZHC3c3_pZ",
        "outputId": "092ec44e-e84c-4e68-f1ce-0f13ad4e9e5f"
      },
      "execution_count": null,
      "outputs": [
        {
          "output_type": "stream",
          "name": "stdout",
          "text": [
            "Training Random Forest Model\n",
            "Trained Random Forest Model ACCURACY = 0.761\n",
            "----------\n",
            "\n",
            "Training XGB Model\n",
            "Trained XGB Model ACCURACY = 0.7733333333333333\n",
            "----------\n",
            "\n"
          ]
        }
      ]
    },
    {
      "cell_type": "code",
      "source": [
        "X = StandardScaler().fit_transform(df)"
      ],
      "metadata": {
        "id": "FxAjW4FJ8a9U"
      },
      "execution_count": null,
      "outputs": []
    },
    {
      "cell_type": "code",
      "source": [
        "X = np.array(X)"
      ],
      "metadata": {
        "id": "pGM7kPYy8dU8"
      },
      "execution_count": null,
      "outputs": []
    },
    {
      "cell_type": "code",
      "source": [
        "from sklearn.decomposition import PCA\n",
        "pca = PCA(n_components=0.98)  # Retain 95% variance\n",
        "X = pca.fit_transform(X)"
      ],
      "metadata": {
        "id": "Ev2rZf_u7VIk"
      },
      "execution_count": null,
      "outputs": []
    },
    {
      "cell_type": "code",
      "source": [
        "X = np.column_stack((X, X_text))"
      ],
      "metadata": {
        "id": "x8hxbHEJTTdR"
      },
      "execution_count": null,
      "outputs": []
    },
    {
      "cell_type": "code",
      "source": [
        "X_train,X_test,y_train,y_test = train_test_split(X,y,test_size=0.2,random_state=2)"
      ],
      "metadata": {
        "id": "tgN3UuHH8ruS"
      },
      "execution_count": null,
      "outputs": []
    },
    {
      "cell_type": "code",
      "source": [
        "print(\"Training Random Forest Model\")\n",
        "rf = RandomForestClassifier()\n",
        "rf.fit(X_train,y_train)\n",
        "rf_pred = rf.predict(X_test)\n",
        "accuracy = accuracy_score(y_test,rf_pred)\n",
        "print(f\"Trained Random Forest Model ACCURACY = {accuracy}\")\n",
        "print('-'*10 + '\\n')\n",
        "print(\"Training XGB Model\")\n",
        "xgb = XGBClassifier()\n",
        "xgb.fit(X_train,y_train)\n",
        "xgb_pred = xgb.predict(X_test)\n",
        "accuracy = accuracy_score(y_test,xgb_pred)\n",
        "print(f\"Trained XGB Model ACCURACY = {accuracy}\")\n",
        "print('-'*10+ '\\n')"
      ],
      "metadata": {
        "colab": {
          "base_uri": "https://localhost:8080/"
        },
        "id": "_zx6Gc7-8ttX",
        "outputId": "7a99389c-513b-47e6-b926-90d1bcfb77be"
      },
      "execution_count": null,
      "outputs": [
        {
          "output_type": "stream",
          "name": "stdout",
          "text": [
            "Training Random Forest Model\n",
            "Trained Random Forest Model ACCURACY = 0.7501666666666666\n",
            "----------\n",
            "\n",
            "Training XGB Model\n",
            "Trained XGB Model ACCURACY = 0.7603333333333333\n",
            "----------\n",
            "\n"
          ]
        }
      ]
    },
    {
      "cell_type": "code",
      "source": [
        "X_q1 = []\n",
        "for doc in tqdm(text_df['question1'].values):\n",
        "    X_q1.append(document_vector(doc))\n",
        "X_q2 = []\n",
        "for doc in tqdm(text_df['question2'].values):\n",
        "    X_q2.append(document_vector(doc))"
      ],
      "metadata": {
        "colab": {
          "base_uri": "https://localhost:8080/"
        },
        "id": "jodmh61CYMqF",
        "outputId": "0ffe16b0-c36c-4d81-e03f-3ee6bdbd4021"
      },
      "execution_count": null,
      "outputs": [
        {
          "output_type": "stream",
          "name": "stderr",
          "text": [
            "100%|██████████| 30000/30000 [01:46<00:00, 282.30it/s]\n",
            "100%|██████████| 30000/30000 [01:46<00:00, 282.89it/s]\n"
          ]
        }
      ]
    },
    {
      "cell_type": "code",
      "source": [
        "X = StandardScaler().fit_transform(df.drop(['cw_max', 'cw_min', 'cstp_min', 'cstp_max', 'cstp_stplen_mean'], axis=1))"
      ],
      "metadata": {
        "id": "ex9eOAVjYnZB"
      },
      "execution_count": null,
      "outputs": []
    },
    {
      "cell_type": "code",
      "source": [
        "X = np.array(X)\n",
        "X = np.column_stack((X, X_q1, X_q2))"
      ],
      "metadata": {
        "id": "QbxmTrDbYp1C"
      },
      "execution_count": null,
      "outputs": []
    },
    {
      "cell_type": "code",
      "source": [
        "X_train,X_test,y_train,y_test = train_test_split(X,y,test_size=0.2,random_state=2)"
      ],
      "metadata": {
        "id": "S4sc4UsrYr0X"
      },
      "execution_count": null,
      "outputs": []
    },
    {
      "cell_type": "code",
      "source": [
        "print(\"Training Random Forest Model\")\n",
        "rf = RandomForestClassifier()\n",
        "rf.fit(X_train,y_train)\n",
        "rf_pred = rf.predict(X_test)\n",
        "accuracy = accuracy_score(y_test,rf_pred)\n",
        "print(f\"Trained Random Forest Model ACCURACY = {accuracy}\")\n",
        "print('-'*10 + '\\n')\n",
        "print(\"Training XGB Model\")\n",
        "xgb = XGBClassifier()\n",
        "xgb.fit(X_train,y_train)\n",
        "xgb_pred = xgb.predict(X_test)\n",
        "accuracy = accuracy_score(y_test,xgb_pred)\n",
        "print(f\"Trained XGB Model ACCURACY = {accuracy}\")\n",
        "print('-'*10+ '\\n')"
      ],
      "metadata": {
        "colab": {
          "base_uri": "https://localhost:8080/"
        },
        "id": "Rq6npbCnYtx7",
        "outputId": "9f25ca7a-5bdb-4447-9ca8-41681f82feb3"
      },
      "execution_count": null,
      "outputs": [
        {
          "output_type": "stream",
          "name": "stdout",
          "text": [
            "Training Random Forest Model\n",
            "Trained Random Forest Model ACCURACY = 0.7528333333333334\n",
            "----------\n",
            "\n",
            "Training XGB Model\n",
            "Trained XGB Model ACCURACY = 0.764\n",
            "----------\n",
            "\n"
          ]
        }
      ]
    },
    {
      "cell_type": "markdown",
      "source": [
        "T2"
      ],
      "metadata": {
        "id": "5YT9B5DGhlBF"
      }
    },
    {
      "cell_type": "code",
      "source": [],
      "metadata": {
        "id": "gqX1_OgIjHrA"
      },
      "execution_count": null,
      "outputs": []
    }
  ]
}